{
  "nbformat": 4,
  "nbformat_minor": 0,
  "metadata": {
    "colab": {
      "provenance": [],
      "gpuType": "V28"
    },
    "kernelspec": {
      "name": "python3",
      "display_name": "Python 3"
    },
    "language_info": {
      "name": "python"
    },
    "accelerator": "TPU"
  },
  "cells": [
    {
      "cell_type": "markdown",
      "source": [
        "# **LATIA113-1**\n",
        "### 2024/09/19 課程練習與作業\n",
        "\n",
        "- 姓名 : 邱鈺婷\n",
        "- 系級 : 科技系116"
      ],
      "metadata": {
        "id": "lskFJldvwMah"
      }
    },
    {
      "cell_type": "markdown",
      "source": [
        "#**簡述**\n",
        "\n",
        "本次課程講解了python基本語法，包含 : 變數、字串、資料容器、邏輯判斷、迴圈等。\n",
        "\n",
        "學習目的 : 掌握基本python語法、實際練習操作"
      ],
      "metadata": {
        "id": "sqX93o77xBcW"
      }
    },
    {
      "cell_type": "markdown",
      "source": [
        "## 字串輸出 & 變數設定"
      ],
      "metadata": {
        "id": "uDJhlifXyEen"
      }
    },
    {
      "cell_type": "code",
      "source": [
        "print(\"Hello world\")"
      ],
      "metadata": {
        "colab": {
          "base_uri": "https://localhost:8080/"
        },
        "id": "PfIboOyHQgBZ",
        "outputId": "24a3e0a7-e3fd-4682-fa66-9c2667384271"
      },
      "execution_count": 42,
      "outputs": [
        {
          "output_type": "stream",
          "name": "stdout",
          "text": [
            "Hello world\n"
          ]
        }
      ]
    },
    {
      "cell_type": "code",
      "source": [
        "#設定變數\n",
        "\n",
        "a=1\n",
        "b=c=a\n",
        "print(a)\n",
        "print(b)\n",
        "print(c)\n",
        "\n",
        "#重新設定變數\n",
        "\n",
        "a=1\n",
        "b=a\n",
        "a=2\n",
        "print(a)\n",
        "print(b)"
      ],
      "metadata": {
        "colab": {
          "base_uri": "https://localhost:8080/"
        },
        "id": "7uRyHEeVQrH3",
        "outputId": "9655224a-1a84-45d5-af08-9fca7b5ba206"
      },
      "execution_count": 43,
      "outputs": [
        {
          "output_type": "stream",
          "name": "stdout",
          "text": [
            "1\n",
            "1\n",
            "1\n",
            "2\n",
            "1\n"
          ]
        }
      ]
    },
    {
      "cell_type": "code",
      "source": [
        "#建立字串\n",
        "\n",
        "print(\"'oxxo' is my name\")\n",
        "print('\"oxxo\" is my name')\n",
        "\n",
        "a=\"\"\"I am oxxo.\"\"\"\n",
        "print(a)"
      ],
      "metadata": {
        "colab": {
          "base_uri": "https://localhost:8080/"
        },
        "id": "_yK_6qwPTm7I",
        "outputId": "df50de7c-9733-4446-a861-b8e4e5185aef"
      },
      "execution_count": 44,
      "outputs": [
        {
          "output_type": "stream",
          "name": "stdout",
          "text": [
            "'oxxo' is my name\n",
            "\"oxxo\" is my name\n",
            "I am oxxo.\n"
          ]
        }
      ]
    },
    {
      "cell_type": "code",
      "source": [
        "#文字與字串\n",
        "\n",
        "a =\"0123456789abcdef\"\n",
        "print(a[0]) #第一個字元\n",
        "print(a[3]) #第三個字元\n",
        "print(a[-1]) #最後一個字元\n",
        "print(a[:]) #取出全部字元\n",
        "print(a[5:]) #從第5個開始到結束\n",
        "print(a[:5]) #從第1個開始到第4個(01234)\n",
        "print(a[5:10]) #從5開始到第9個(56789)\n",
        "print(a[5:-3]) #從5開始到倒數第4個(56789abc)\n",
        "print(a[5:10:2]) #從5開始到第9個，間隔2(579)"
      ],
      "metadata": {
        "colab": {
          "base_uri": "https://localhost:8080/"
        },
        "id": "USAVdVvNUhxU",
        "outputId": "4d4cc200-78e4-4375-fa9c-657a651cd920"
      },
      "execution_count": 45,
      "outputs": [
        {
          "output_type": "stream",
          "name": "stdout",
          "text": [
            "0\n",
            "3\n",
            "f\n",
            "0123456789abcdef\n",
            "56789abcdef\n",
            "01234\n",
            "56789\n",
            "56789abc\n",
            "579\n"
          ]
        }
      ]
    },
    {
      "cell_type": "code",
      "source": [
        "#算字長(字元數量) len(str)\n",
        "\n",
        "a=\"hello word\"\n",
        "print(len(a))\n",
        "\n",
        "#拆開來 str.split(x)\n",
        "\n",
        "a=\"hello world, I am oxxo, how are you?\"\n",
        "b=a.split(\",\")\n",
        "c=a.split(\" \")\n",
        "d=a.split() #自動以空白字元劃分\n",
        "print(a)\n",
        "print(b)\n",
        "print(c)\n",
        "print(d)"
      ],
      "metadata": {
        "colab": {
          "base_uri": "https://localhost:8080/"
        },
        "id": "F6k848P9W7N-",
        "outputId": "b8a8184f-6d4c-4c2b-a3d1-c1dd96957c8c"
      },
      "execution_count": 46,
      "outputs": [
        {
          "output_type": "stream",
          "name": "stdout",
          "text": [
            "10\n",
            "hello world, I am oxxo, how are you?\n",
            "['hello world', ' I am oxxo', ' how are you?']\n",
            "['hello', 'world,', 'I', 'am', 'oxxo,', 'how', 'are', 'you?']\n",
            "['hello', 'world,', 'I', 'am', 'oxxo,', 'how', 'are', 'you?']\n"
          ]
        }
      ]
    },
    {
      "cell_type": "markdown",
      "source": [
        "## 資料容器類型"
      ],
      "metadata": {
        "id": "o0EddqyIoPc3"
      }
    },
    {
      "cell_type": "code",
      "source": [
        "#list\n",
        "#使用中括號[]\n",
        "#有彈性，能容納不同資料類型\n",
        "\n",
        "a=[\"apple\",\"banana\",\"orange\"]\n",
        "b=[1,2,3,4,5]\n",
        "c=[\"apple\",1,2,3,['dog','cat']]\n",
        "d = list('apple')\n",
        "\n",
        "print(a)\n",
        "print(b)\n",
        "print(c)\n",
        "print(d)"
      ],
      "metadata": {
        "colab": {
          "base_uri": "https://localhost:8080/"
        },
        "id": "YZynba3MYoU7",
        "outputId": "99c1e8f6-ab79-4550-d67a-1d1a9d25c55c"
      },
      "execution_count": 47,
      "outputs": [
        {
          "output_type": "stream",
          "name": "stdout",
          "text": [
            "['apple', 'banana', 'orange']\n",
            "[1, 2, 3, 4, 5]\n",
            "['apple', 1, 2, 3, ['dog', 'cat']]\n",
            "['a', 'p', 'p', 'l', 'e']\n"
          ]
        }
      ]
    },
    {
      "cell_type": "code",
      "source": [
        "#tuple\n",
        "#使用小括號()\n",
        "#不能更動、更動\n",
        "#讀取速度比串列快\n",
        "\n",
        "t=('apple','banana','orange','grap')\n",
        "a,b,c,d=t\n",
        "print(a)\n",
        "print(b)\n",
        "print(c)\n",
        "print(d)\n",
        "print(\"-----------------------\")\n",
        "\n",
        "print(t[0])\n",
        "print(t[1])\n",
        "print(t[2])\n",
        "print(t[3])\n",
        "print(\"-----------------------\")\n",
        "\n",
        "t1=('apple','banana','orange')\n",
        "t2=('grap','pineapple')\n",
        "t=t1+t2\n",
        "print(t)\n"
      ],
      "metadata": {
        "colab": {
          "base_uri": "https://localhost:8080/"
        },
        "id": "NuNPpgt3oUpC",
        "outputId": "6616db33-6b38-44d5-f1ea-c776bc3da149"
      },
      "execution_count": 48,
      "outputs": [
        {
          "output_type": "stream",
          "name": "stdout",
          "text": [
            "apple\n",
            "banana\n",
            "orange\n",
            "grap\n",
            "-----------------------\n",
            "apple\n",
            "banana\n",
            "orange\n",
            "grap\n",
            "-----------------------\n",
            "('apple', 'banana', 'orange', 'grap', 'pineapple')\n"
          ]
        }
      ]
    },
    {
      "cell_type": "code",
      "source": [
        "#dict(字典)\n",
        "#使用大括號{}\n",
        "#用鍵(key)值(value)為資料做索引\n",
        "\n",
        "a=dict(name=\"oxxo\",age=18,eat=[\"apple\",\"banana\"])\n",
        "print(a)\n",
        "print(type(a))"
      ],
      "metadata": {
        "colab": {
          "base_uri": "https://localhost:8080/"
        },
        "id": "Af_92uKpoY99",
        "outputId": "525975b4-dbb7-4255-cfe9-b92b56f8b2c8"
      },
      "execution_count": 49,
      "outputs": [
        {
          "output_type": "stream",
          "name": "stdout",
          "text": [
            "{'name': 'oxxo', 'age': 18, 'eat': ['apple', 'banana']}\n",
            "<class 'dict'>\n"
          ]
        }
      ]
    },
    {
      "cell_type": "code",
      "source": [
        "#set\n",
        "#使用大括號{}\n",
        "#就像是「只有鍵，沒有值」的字典\n",
        "#不會包含重複的資料\n",
        "\n",
        "a=set()\n",
        "b=set([1,2,3,4,5,1,2,3,4,5])\n",
        "c=set({\"x\":1,\"y\":2,\"z\":3})\n",
        "d=set(\"hello\")"
      ],
      "metadata": {
        "id": "5PVRJLUDonUw"
      },
      "execution_count": 50,
      "outputs": []
    },
    {
      "cell_type": "markdown",
      "source": [
        "## 邏輯判斷&迴圈"
      ],
      "metadata": {
        "id": "RCj7Ltn8pMHG"
      }
    },
    {
      "cell_type": "code",
      "source": [
        "#if判斷\n",
        "\n",
        "#當a<b時\n",
        "a=2\n",
        "b=3\n",
        "if a>b:\n",
        "  print(\"hello\")\n",
        "print(\"OK\")\n",
        "\n",
        "print(\"-----------------------\")\n",
        "\n",
        "#當a>b時\n",
        "a=3\n",
        "b=2\n",
        "if a>b:\n",
        "  print(\"hello\")\n",
        "print(\"OK\")"
      ],
      "metadata": {
        "colab": {
          "base_uri": "https://localhost:8080/"
        },
        "id": "TRJ96sDdpRYT",
        "outputId": "681c14f0-39ef-4ebc-8a68-fe44633b752d"
      },
      "execution_count": 51,
      "outputs": [
        {
          "output_type": "stream",
          "name": "stdout",
          "text": [
            "OK\n",
            "-----------------------\n",
            "hello\n",
            "OK\n"
          ]
        }
      ]
    },
    {
      "cell_type": "code",
      "source": [
        "#if、else\n",
        "\n",
        "#當a<b\n",
        "a=2\n",
        "b=3\n",
        "if a>b:\n",
        "  print(\"hello\")\n",
        "else:\n",
        "  print(\"world\")\n",
        "print(\"OK\")\n",
        "\n",
        "print(\"-----------------------\")\n",
        "\n",
        "#當a>b\n",
        "a=3\n",
        "b=2\n",
        "if a>b:\n",
        "  print(\"hello\")\n",
        "else:\n",
        "  print(\"world\")\n",
        "print(\"OK\")"
      ],
      "metadata": {
        "colab": {
          "base_uri": "https://localhost:8080/"
        },
        "id": "GWxFbQsrqEiq",
        "outputId": "03cfe704-b759-42c3-d8a5-c100ae7d3866"
      },
      "execution_count": 52,
      "outputs": [
        {
          "output_type": "stream",
          "name": "stdout",
          "text": [
            "world\n",
            "OK\n",
            "-----------------------\n",
            "hello\n",
            "OK\n"
          ]
        }
      ]
    },
    {
      "cell_type": "code",
      "source": [
        "#if、elif、else\n",
        "#列舉出a、b關係的所有可能性的結果\n",
        "\n",
        "a=2\n",
        "b=3\n",
        "if a<b:\n",
        "  print(\"a<b\")\n",
        "  if a==1:\n",
        "    print(\"a=1\")\n",
        "  elif a==2:\n",
        "    print(\"a=2\")\n",
        "  elif a==3:\n",
        "    print(\"a=3\")\n",
        "elif a>b:\n",
        "  print(\"a>b\")\n",
        "else:\n",
        "  print(\"a=b\")\n",
        "print(\"OK\")"
      ],
      "metadata": {
        "colab": {
          "base_uri": "https://localhost:8080/"
        },
        "id": "MbfszrC1qvCN",
        "outputId": "3090246e-c258-4b69-a64e-d96d9feae5dd"
      },
      "execution_count": 53,
      "outputs": [
        {
          "output_type": "stream",
          "name": "stdout",
          "text": [
            "a<b\n",
            "a=2\n",
            "OK\n"
          ]
        }
      ]
    },
    {
      "cell_type": "code",
      "source": [
        "#邏輯判斷\n",
        "#and、or\n",
        "#使用 and 運算，如果全部都是 True，回傳最右邊 True 的值，否則回傳第一個 False 的值。\n",
        "#使用 or 運算，如果全為 False，回傳最右邊 False 的值，否則回傳第一個 True 的值。\n",
        "\n",
        "a=2\n",
        "b=3\n",
        "c=0\n",
        "if a>b or a<c and a==2 or b==4:\n",
        "  print(\"OK1\")\n",
        "else:\n",
        "  print(\"XXX\")"
      ],
      "metadata": {
        "colab": {
          "base_uri": "https://localhost:8080/"
        },
        "id": "dmMk2mJ2r80C",
        "outputId": "ad70bd1e-d9da-48de-eb26-3e036314333f"
      },
      "execution_count": 54,
      "outputs": [
        {
          "output_type": "stream",
          "name": "stdout",
          "text": [
            "XXX\n"
          ]
        }
      ]
    },
    {
      "cell_type": "code",
      "source": [
        "#重複迴圈\n",
        "#for、while\n",
        "\n",
        "#i會依序輸出abc字元\n",
        "for i in \"abc\":\n",
        "  print(i)\n",
        "\n",
        "print(\"-----------------------\")\n",
        "\n",
        "#巢狀迴圈\n",
        "for a in [\"x\",\"y\",\"z\"]:\n",
        "  for b in [1,2,3]:\n",
        "    print(b)\n",
        "  print(a)\n",
        "\n",
        "print(\"-----------------------\")\n",
        "\n",
        "#巢狀迴圈，在b的迴圈同時輸出a、b值\n",
        "for a in [\"x\",\"y\",\"z\"]:\n",
        "  for b in [1,2,3]:\n",
        "    print(f\"{a}{b}\")\n",
        "\n",
        "print(\"-----------------------\")\n",
        "\n",
        "#讓t在範圍0到9\n",
        "#range(10)默認從0開始，不包含結束值\n",
        "i=[]\n",
        "for t in range(10):\n",
        "  t+=1\n",
        "  i.append(t)\n",
        "i"
      ],
      "metadata": {
        "colab": {
          "base_uri": "https://localhost:8080/"
        },
        "id": "DR9UfwQKsdK9",
        "outputId": "0192d0b2-e32a-42ec-fb1b-45cd034db493"
      },
      "execution_count": 55,
      "outputs": [
        {
          "output_type": "stream",
          "name": "stdout",
          "text": [
            "a\n",
            "b\n",
            "c\n",
            "-----------------------\n",
            "1\n",
            "2\n",
            "3\n",
            "x\n",
            "1\n",
            "2\n",
            "3\n",
            "y\n",
            "1\n",
            "2\n",
            "3\n",
            "z\n",
            "-----------------------\n",
            "x1\n",
            "x2\n",
            "x3\n",
            "y1\n",
            "y2\n",
            "y3\n",
            "z1\n",
            "z2\n",
            "z3\n",
            "-----------------------\n"
          ]
        },
        {
          "output_type": "execute_result",
          "data": {
            "text/plain": [
              "[1, 2, 3, 4, 5, 6, 7, 8, 9, 10]"
            ]
          },
          "metadata": {},
          "execution_count": 55
        }
      ]
    },
    {
      "cell_type": "markdown",
      "source": [
        "## 例外處理"
      ],
      "metadata": {
        "id": "WZ5cWG3z0JGr"
      }
    },
    {
      "cell_type": "code",
      "source": [
        "#例外處理\n",
        "#try、except\n",
        "\n",
        "#錯誤情況 (因為a的type是str，他無法在print中相加)\n",
        "\n",
        "try:\n",
        "  a = input('輸入數字：')\n",
        "  print(a + 1)\n",
        "except:\n",
        "  pass\n",
        "print(\"hello\")"
      ],
      "metadata": {
        "colab": {
          "base_uri": "https://localhost:8080/"
        },
        "id": "_iIQvbzUti9G",
        "outputId": "51773c0e-1017-40be-904d-75fa7b378081"
      },
      "execution_count": 56,
      "outputs": [
        {
          "output_type": "stream",
          "name": "stdout",
          "text": [
            "輸入數字：5\n",
            "hello\n"
          ]
        }
      ]
    },
    {
      "cell_type": "code",
      "source": [
        "#將a的type改成float(或int也可以，只是int要整數)\n",
        "\n",
        "try:\n",
        "  a = float(input('輸入數字：'))\n",
        "  print(a + 1)\n",
        "except:\n",
        "  pass\n",
        "print(\"hello\")"
      ],
      "metadata": {
        "colab": {
          "base_uri": "https://localhost:8080/"
        },
        "id": "rSGIkOOm0qBw",
        "outputId": "2e318294-8185-4cfc-a622-ad781bc6994c"
      },
      "execution_count": 57,
      "outputs": [
        {
          "output_type": "stream",
          "name": "stdout",
          "text": [
            "輸入數字：5\n",
            "6.0\n",
            "hello\n"
          ]
        }
      ]
    },
    {
      "cell_type": "markdown",
      "source": [
        "## 串列生成式"
      ],
      "metadata": {
        "id": "PcuN-d7qu4g3"
      }
    },
    {
      "cell_type": "markdown",
      "source": [
        "串列生成式（List Comprehension）是一種 Python 語法，用來簡潔地創建或操作串列（list）。它透過簡化的語法，將一個或多個 for 迴圈和條件篩選結合在一起，從而生成一個新的串列。"
      ],
      "metadata": {
        "id": "VXBkjjfP3NN9"
      }
    },
    {
      "cell_type": "markdown",
      "source": [
        "語法為 : [ 運算式 for 元素 in 可迭代物件 if 條件 ]"
      ],
      "metadata": {
        "id": "KZFH1aCe3cU4"
      }
    },
    {
      "cell_type": "code",
      "source": [
        "#result=[expression for item in iterable]\n",
        "\n",
        "#單純寫法\n",
        "\n",
        "a=[]\n",
        "for i in range(1,10):\n",
        "  a.append(i*i)\n",
        "print(a)\n",
        "\n",
        "#使用串列生成式 (將式子合併為一句，增加可讀性、簡潔性)\n",
        "b=[j*j for j in range(1,10)]\n",
        "print(b)"
      ],
      "metadata": {
        "colab": {
          "base_uri": "https://localhost:8080/"
        },
        "id": "nmEaTSfkvTnq",
        "outputId": "3c33ba98-acb3-4819-dbf1-631b75c23cbc"
      },
      "execution_count": 58,
      "outputs": [
        {
          "output_type": "stream",
          "name": "stdout",
          "text": [
            "[1, 4, 9, 16, 25, 36, 49, 64, 81]\n",
            "[1, 4, 9, 16, 25, 36, 49, 64, 81]\n"
          ]
        }
      ]
    }
  ]
}